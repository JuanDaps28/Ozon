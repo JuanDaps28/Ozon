{
 "cells": [
  {
   "cell_type": "code",
   "execution_count": 9,
   "metadata": {},
   "outputs": [],
   "source": [
    "import os\n",
    "import json\n",
    "import uuid\n",
    "import numpy as np\n",
    "import pandas as pd\n",
    "from datetime import datetime as dt"
   ]
  },
  {
   "cell_type": "code",
   "execution_count": 10,
   "metadata": {},
   "outputs": [],
   "source": [
    "def read_brands_data() -> pd.DataFrame:\n",
    "    brands_data_path = os.path.join(os.getcwd(), 'rawData', 'brands.csv')\n",
    "    brands_df = pd.read_csv(brands_data_path)[['_id', 'name']]\n",
    "    return brands_df"
   ]
  },
  {
   "cell_type": "code",
   "execution_count": 11,
   "metadata": {},
   "outputs": [],
   "source": [
    "def read_motos_data(brands_df: pd.DataFrame) -> pd.DataFrame:\n",
    "    motos_data_path = os.path.join(os.getcwd(), 'rawData', 'BD Motos.xlsx')\n",
    "    motos_df = pd.read_excel(motos_data_path, header=1)[['cuota', 'Precio venta descuento', 'cuota semanal descuento', 'año ', 'kilometraje_aprox', 'id_ozon', 'serie_vehicular_o_num_chasis', 'num_motor', 'gasto_compra', 'Color', 'cilindraje', 'pais', 'placa', 'num_tarjeta_circ', 'marca']]\n",
    "    motos_df = motos_df[(motos_df['pais'] == 'mexico') & (motos_df['id_ozon'])]\n",
    "    motos_df = motos_df[motos_df['id_ozon'].apply(lambda x: True if int(x[3:]) < 1000 else False)]\n",
    "    motos_df['marca'] = motos_df['marca'].apply(lambda x: x if pd.isna(x) else str(x).upper())\n",
    "    motos_df = pd.merge(motos_df, brands_df, how='left', left_on=['marca'], right_on=['name']).drop(columns=['name'])\n",
    "    motos_df = motos_df.replace({np.nan: None})\n",
    "    return motos_df"
   ]
  },
  {
   "cell_type": "code",
   "execution_count": 12,
   "metadata": {},
   "outputs": [],
   "source": [
    "def get_uuid() -> str:\n",
    "    return str(uuid.uuid4())"
   ]
  },
  {
   "cell_type": "code",
   "execution_count": 13,
   "metadata": {},
   "outputs": [],
   "source": [
    "def get_details(year: float, milage: float) -> dict:\n",
    "    return {'year': year, 'milage': milage}"
   ]
  },
  {
   "cell_type": "code",
   "execution_count": 14,
   "metadata": {},
   "outputs": [],
   "source": [
    "def get_mongo_data_df(motos_df: pd.DataFrame) -> pd.DataFrame:\n",
    "    mongo_data_df = pd.DataFrame()\n",
    "    mongo_data_df['salePrice'] = motos_df.apply(lambda x: x['cuota'] if pd.isna(x['Precio venta descuento']) else x['cuota semanal descuento'], axis=1)\n",
    "    mongo_data_df['oldPrice'] = motos_df.apply(lambda x: x['cuota'] if pd.isna(x['Precio venta descuento']) else 0, axis=1)\n",
    "    mongo_data_df['internalId'] = motos_df['id_ozon']\n",
    "    mongo_data_df['vehicleSN'] = motos_df['serie_vehicular_o_num_chasis']\n",
    "    mongo_data_df['engineSN'] = motos_df['num_motor']\n",
    "    mongo_data_df['purchaseCost'] = motos_df['gasto_compra']\n",
    "    mongo_data_df['color'] = motos_df['Color']\n",
    "    mongo_data_df['cylindersCapacity'] = motos_df['cilindraje']\n",
    "    mongo_data_df['brand'] = motos_df['_id']\n",
    "    mongo_data_df['createdAt'] = mongo_data_df.apply(lambda x: dt.now().isoformat(), axis=1)\n",
    "    mongo_data_df['updatedAt'] = mongo_data_df.apply(lambda x: dt.now().isoformat(), axis=1)\n",
    "    mongo_data_df['country'] = motos_df['pais']\n",
    "    mongo_data_df['plate'] = motos_df['placa']\n",
    "    mongo_data_df['registrationCard'] = motos_df['num_tarjeta_circ']\n",
    "    mongo_data_df['details'] = motos_df.apply(lambda x: get_details(x['año '], x['kilometraje_aprox']), axis=1)\n",
    "    mongo_data_df['_id'] = mongo_data_df.apply(lambda x: get_uuid(), axis=1)\n",
    "    mongo_data_df = mongo_data_df.replace({np.nan: None})\n",
    "    return mongo_data_df"
   ]
  },
  {
   "cell_type": "code",
   "execution_count": 15,
   "metadata": {},
   "outputs": [],
   "source": [
    "def generate_mongo_data_json(mongo_data_df: pd.DataFrame, file_name: str) -> None:\n",
    "    mongo_data = mongo_data_df.to_dict('records')\n",
    "    with open(os.path.join(os.getcwd(), 'mongoData', file_name+'.json'), \"w\") as outfile:\n",
    "        outfile.write(json.dumps(mongo_data))"
   ]
  },
  {
   "cell_type": "code",
   "execution_count": 16,
   "metadata": {},
   "outputs": [],
   "source": [
    "def main():\n",
    "    brands_df = read_brands_data()\n",
    "    motos_df = read_motos_data(brands_df)\n",
    "    mongo_data_df = get_mongo_data_df(motos_df)\n",
    "    generate_mongo_data_json(mongo_data_df, 'mongoData')"
   ]
  },
  {
   "cell_type": "code",
   "execution_count": 17,
   "metadata": {},
   "outputs": [],
   "source": [
    "main()"
   ]
  },
  {
   "cell_type": "code",
   "execution_count": null,
   "metadata": {},
   "outputs": [],
   "source": []
  }
 ],
 "metadata": {
  "kernelspec": {
   "display_name": "Python 3.10.3 64-bit",
   "language": "python",
   "name": "python3"
  },
  "language_info": {
   "codemirror_mode": {
    "name": "ipython",
    "version": 3
   },
   "file_extension": ".py",
   "mimetype": "text/x-python",
   "name": "python",
   "nbconvert_exporter": "python",
   "pygments_lexer": "ipython3",
   "version": "3.10.2"
  },
  "orig_nbformat": 4,
  "vscode": {
   "interpreter": {
    "hash": "b629c3126b5df0b3c19ac5f524890cb3a3a2e86c1a2f2c4b1c29287aa73e65d0"
   }
  }
 },
 "nbformat": 4,
 "nbformat_minor": 2
}
